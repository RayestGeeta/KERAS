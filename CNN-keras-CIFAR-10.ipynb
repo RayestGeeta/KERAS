{
 "cells": [
  {
   "cell_type": "code",
   "execution_count": 51,
   "metadata": {},
   "outputs": [],
   "source": [
    "from keras.datasets import cifar10\n",
    "import numpy as np\n",
    "import pandas as pd \n",
    "import matplotlib.pyplot as plt"
   ]
  },
  {
   "cell_type": "code",
   "execution_count": 2,
   "metadata": {},
   "outputs": [],
   "source": [
    "np.random.seed(10)"
   ]
  },
  {
   "cell_type": "code",
   "execution_count": 3,
   "metadata": {},
   "outputs": [],
   "source": [
    "(x_img_train,y_label_train),(x_img_test,y_label_test) = cifar10.load_data()"
   ]
  },
  {
   "cell_type": "code",
   "execution_count": 4,
   "metadata": {},
   "outputs": [],
   "source": [
    "x_img_train_normalize = x_img_train.astype('float32') / 255.0\n",
    "x_img_test_normalize = x_img_test.astype('float32') / 255.0"
   ]
  },
  {
   "cell_type": "code",
   "execution_count": 5,
   "metadata": {},
   "outputs": [],
   "source": [
    "from keras.utils import np_utils\n",
    "y_label_train_OneHot = np_utils.to_categorical(y_label_train)\n",
    "y_label_test_OneHot = np_utils.to_categorical(y_label_test)"
   ]
  },
  {
   "cell_type": "code",
   "execution_count": 6,
   "metadata": {},
   "outputs": [],
   "source": [
    "from keras.models import Sequential\n",
    "from keras.layers import Dense,Dropout,Activation,Flatten\n",
    "from keras.layers import Conv2D,MaxPooling2D,ZeroPadding2D"
   ]
  },
  {
   "cell_type": "code",
   "execution_count": 7,
   "metadata": {},
   "outputs": [
    {
     "data": {
      "image/png": "[encoded data removed]",
      "text/plain": [
       "<Figure size 432x288 with 1 Axes>"
      ]
     },
     "metadata": {},
     "output_type": "display_data"
    }
   ],
   "source": [
    "plt.imshow(x_img_train[0])\n",
    "plt.show()"
   ]
  },
  {
   "cell_type": "code",
   "execution_count": 8,
   "metadata": {},
   "outputs": [],
   "source": [
    "model = Sequential()"
   ]
  },
  {
   "cell_type": "code",
   "execution_count": 9,
   "metadata": {},
   "outputs": [],
   "source": [
    "model.add(Conv2D(filters=32,kernel_size=(3,3),\n",
    "                input_shape = (32,32,3),\n",
    "                activation = 'relu',\n",
    "                padding='same'))"
   ]
  },
  {
   "cell_type": "code",
   "execution_count": 10,
   "metadata": {},
   "outputs": [],
   "source": [
    "model.add(Dropout(rate=0.25))"
   ]
  },
  {
   "cell_type": "code",
   "execution_count": 11,
   "metadata": {},
   "outputs": [],
   "source": [
    "model.add(MaxPooling2D(pool_size = (2,2)))"
   ]
  },
  {
   "cell_type": "code",
   "execution_count": 12,
   "metadata": {},
   "outputs": [],
   "source": [
    "model.add(Conv2D(filters=64,kernel_size = (3,3),\n",
    "                activation = 'relu',padding='same'))"
   ]
  },
  {
   "cell_type": "code",
   "execution_count": 13,
   "metadata": {},
   "outputs": [],
   "source": [
    "model.add(Dropout(0.25))"
   ]
  },
  {
   "cell_type": "code",
   "execution_count": 14,
   "metadata": {},
   "outputs": [],
   "source": [
    "model.add(MaxPooling2D(pool_size=(2,2)))"
   ]
  },
  {
   "cell_type": "code",
   "execution_count": 15,
   "metadata": {},
   "outputs": [],
   "source": [
    "model.add(Flatten())\n",
    "model.add(Dropout(rate = 0.25))"
   ]
  },
  {
   "cell_type": "code",
   "execution_count": 16,
   "metadata": {},
   "outputs": [],
   "source": [
    "model.add(Dense(1024,activation='relu'))\n",
    "model.add(Dropout(rate=0.25))"
   ]
  },
  {
   "cell_type": "code",
   "execution_count": 17,
   "metadata": {},
   "outputs": [],
   "source": [
    "model.add(Dense(10,activation='softmax'))"
   ]
  },
  {
   "cell_type": "code",
   "execution_count": 18,
   "metadata": {},
   "outputs": [
    {
     "name": "stdout",
     "output_type": "stream",
     "text": [
      "_________________________________________________________________\n",
      "Layer (type)                 Output Shape              Param #   \n",
      "=================================================================\n",
      "conv2d_1 (Conv2D)            (None, 32, 32, 32)        896       \n",
      "_________________________________________________________________\n",
      "dropout_1 (Dropout)          (None, 32, 32, 32)        0         \n",
      "_________________________________________________________________\n",
      "max_pooling2d_1 (MaxPooling2 (None, 16, 16, 32)        0         \n",
      "_________________________________________________________________\n",
      "conv2d_2 (Conv2D)            (None, 16, 16, 64)        18496     \n",
      "_________________________________________________________________\n",
      "dropout_2 (Dropout)          (None, 16, 16, 64)        0         \n",
      "_________________________________________________________________\n",
      "max_pooling2d_2 (MaxPooling2 (None, 8, 8, 64)          0         \n",
      "_________________________________________________________________\n",
      "flatten_1 (Flatten)          (None, 4096)              0         \n",
      "_________________________________________________________________\n",
      "dropout_3 (Dropout)          (None, 4096)              0         \n",
      "_________________________________________________________________\n",
      "dense_1 (Dense)              (None, 1024)              4195328   \n",
      "_________________________________________________________________\n",
      "dropout_4 (Dropout)          (None, 1024)              0         \n",
      "_________________________________________________________________\n",
      "dense_2 (Dense)              (None, 10)                10250     \n",
      "=================================================================\n",
      "Total params: 4,224,970\n",
      "Trainable params: 4,224,970\n",
      "Non-trainable params: 0\n",
      "_________________________________________________________________\n",
      "None\n"
     ]
    }
   ],
   "source": [
    "print(model.summary())"
   ]
  },
  {
   "cell_type": "code",
   "execution_count": 19,
   "metadata": {},
   "outputs": [],
   "source": [
    "model.compile(loss = 'categorical_crossentropy',\n",
    "             optimizer = 'adam',metrics=['accuracy'])"
   ]
  },
  {
   "cell_type": "code",
   "execution_count": 20,
   "metadata": {},
   "outputs": [
    {
     "name": "stdout",
     "output_type": "stream",
     "text": [
      "Train on 40000 samples, validate on 10000 samples\n",
      "Epoch 1/10\n",
      "40000/40000 [==============================] - 52s 1ms/step - loss: 1.5017 - acc: 0.4599 - val_loss: 1.2852 - val_acc: 0.5821\n",
      "Epoch 2/10\n",
      "40000/40000 [==============================] - 51s 1ms/step - loss: 1.1353 - acc: 0.5966 - val_loss: 1.1189 - val_acc: 0.6357\n",
      "Epoch 3/10\n",
      "40000/40000 [==============================] - 49s 1ms/step - loss: 0.9786 - acc: 0.6567 - val_loss: 1.0126 - val_acc: 0.6626\n",
      "Epoch 4/10\n",
      "40000/40000 [==============================] - 49s 1ms/step - loss: 0.8725 - acc: 0.6937 - val_loss: 0.9359 - val_acc: 0.6933\n",
      "Epoch 5/10\n",
      "40000/40000 [==============================] - 49s 1ms/step - loss: 0.7800 - acc: 0.7256 - val_loss: 0.8747 - val_acc: 0.7096\n",
      "Epoch 6/10\n",
      "40000/40000 [==============================] - 49s 1ms/step - loss: 0.6932 - acc: 0.7586 - val_loss: 0.8294 - val_acc: 0.7246\n",
      "Epoch 7/10\n",
      "40000/40000 [==============================] - 49s 1ms/step - loss: 0.6129 - acc: 0.7849 - val_loss: 0.8051 - val_acc: 0.7294\n",
      "Epoch 8/10\n",
      "40000/40000 [==============================] - 50s 1ms/step - loss: 0.5483 - acc: 0.8085 - val_loss: 0.7728 - val_acc: 0.7403\n",
      "Epoch 9/10\n",
      "40000/40000 [==============================] - 49s 1ms/step - loss: 0.4797 - acc: 0.8328 - val_loss: 0.7973 - val_acc: 0.7270\n",
      "Epoch 10/10\n",
      "40000/40000 [==============================] - 50s 1ms/step - loss: 0.4262 - acc: 0.8518 - val_loss: 0.8041 - val_acc: 0.7245\n"
     ]
    }
   ],
   "source": [
    "train_history = model.fit(x_img_train_normalize,y_label_train_OneHot,\n",
    "                         validation_split = 0.2,\n",
    "                         epochs=10,batch_size = 128,verbose = 1)"
   ]
  },
  {
   "cell_type": "code",
   "execution_count": 21,
   "metadata": {},
   "outputs": [],
   "source": [
    "def show_train_history(train_history,train,validation):\n",
    "    plt.plot(train_history.history[train])\n",
    "    plt.plot(train_history.history[validation])\n",
    "    plt.title('Train History')\n",
    "    plt.ylabel(train)\n",
    "    plt.xlabel('Epoch')\n",
    "    plt.legend(['train','validation'],loc='upper left')\n",
    "    plt.show()\n",
    "label_dict = {0:'airplane',1:\"automobile\",2:'bird',3:'cat',4:'deer',5:'dog',6:'frog',7:'horse',8:'ship',9:'truck'}\n",
    "def plot_images_labels_prediction(images,labels,prediction,idx,num=10):\n",
    "    \n",
    "    fig = plt.gcf()\n",
    "    fig.set_size_inches(12,14)\n",
    "    if num>25:num=25\n",
    "    for i in range(0,num):\n",
    "        ax = plt.subplot(5,5,1+i)\n",
    "        ax.imshow(images[idx],cmap='binary')\n",
    "        title = str(i)+','+label_dict[labels[i][0]]\n",
    "        if len(prediction)>0:\n",
    "            title += \"=>\"+label_dict[prediction[idx]]\n",
    "        ax.set_title(title,fontsize=10)\n",
    "        ax.set_xticks([])\n",
    "        ax.set_yticks([])\n",
    "        idx+=1\n",
    "    plt.show()"
   ]
  },
  {
   "cell_type": "code",
   "execution_count": 22,
   "metadata": {},
   "outputs": [
    {
     "data": {
      "image/png": "[encoded data removed]",
      "text/plain": [
       "<Figure size 432x288 with 1 Axes>"
      ]
     },
     "metadata": {},
     "output_type": "display_data"
    }
   ],
   "source": [
    "show_train_history(train_history,'acc','val_acc')"
   ]
  },
  {
   "cell_type": "code",
   "execution_count": 23,
   "metadata": {},
   "outputs": [
    {
     "data": {
      "image/png": "[encoded data removed]",
      "text/plain": [
       "<Figure size 432x288 with 1 Axes>"
      ]
     },
     "metadata": {},
     "output_type": "display_data"
    }
   ],
   "source": [
    "show_train_history(train_history,'loss','val_loss')"
   ]
  },
  {
   "cell_type": "code",
   "execution_count": 24,
   "metadata": {},
   "outputs": [],
   "source": [
    "scores = model.evaluate(x_img_test_normalize,y_label_test_OneHot,verbose = 0)"
   ]
  },
  {
   "cell_type": "code",
   "execution_count": 25,
   "metadata": {},
   "outputs": [
    {
     "data": {
      "text/plain": [
       "[0.8172747317314148, 0.7197]"
      ]
     },
     "execution_count": 25,
     "metadata": {},
     "output_type": "execute_result"
    }
   ],
   "source": [
    "scores"
   ]
  },
  {
   "cell_type": "code",
   "execution_count": 26,
   "metadata": {},
   "outputs": [],
   "source": [
    "prediction = model.predict_classes(x_img_test_normalize)"
   ]
  },
  {
   "cell_type": "code",
   "execution_count": 27,
   "metadata": {},
   "outputs": [
    {
     "data": {
      "text/plain": [
       "array([3, 8, 8, 0, 6, 6, 1, 6, 3, 1])"
      ]
     },
     "execution_count": 27,
     "metadata": {},
     "output_type": "execute_result"
    }
   ],
   "source": [
    "prediction[:10]"
   ]
  },
  {
   "cell_type": "code",
   "execution_count": 28,
   "metadata": {},
   "outputs": [
    {
     "data": {
      "image/png": "[encoded data removed]",
      "text/plain": [
       "<Figure size 864x1008 with 10 Axes>"
      ]
     },
     "metadata": {},
     "output_type": "display_data"
    }
   ],
   "source": [
    "plot_images_labels_prediction(x_img_test,y_label_test,prediction,0,10)"
   ]
  },
  {
   "cell_type": "code",
   "execution_count": 29,
   "metadata": {},
   "outputs": [],
   "source": [
    "Predicted_Probability = model.predict(x_img_test_normalize)"
   ]
  },
  {
   "cell_type": "code",
   "execution_count": 30,
   "metadata": {},
   "outputs": [],
   "source": [
    "def show_Predicted_Probability(y,prediction,x_img,Predicted_Probability,i):\n",
    "    print('label:',label_dict[y[i][0]],\n",
    "         'predict:',label_dict[prediction[i]])\n",
    "    plt.figure(figsize=(2,2))\n",
    "    plt.imshow(np.reshape(x_img_test[i],(32,32,3)))\n",
    "    plt.show()\n",
    "    for j in range(10):\n",
    "        print(label_dict[j]+' Probability:%1.9f'%(Predicted_Probability[i][j]))\n",
    "        "
   ]
  },
  {
   "cell_type": "code",
   "execution_count": 31,
   "metadata": {},
   "outputs": [
    {
     "name": "stdout",
     "output_type": "stream",
     "text": [
      "label: cat predict: cat\n"
     ]
    },
    {
     "data": {
      "image/png": "[encoded data removed]",
      "text/plain": [
       "<Figure size 144x144 with 1 Axes>"
      ]
     },
     "metadata": {},
     "output_type": "display_data"
    },
    {
     "name": "stdout",
     "output_type": "stream",
     "text": [
      "airplane Probability:0.001247063\n",
      "automobile Probability:0.000635529\n",
      "bird Probability:0.011296380\n",
      "cat Probability:0.553966701\n",
      "deer Probability:0.008651158\n",
      "dog Probability:0.367032140\n",
      "frog Probability:0.047517341\n",
      "horse Probability:0.002777379\n",
      "ship Probability:0.006502938\n",
      "truck Probability:0.000373408\n"
     ]
    }
   ],
   "source": [
    "show_Predicted_Probability(y_label_test,prediction,x_img_test,Predicted_Probability,0)"
   ]
  },
  {
   "cell_type": "code",
   "execution_count": 32,
   "metadata": {},
   "outputs": [
    {
     "data": {
      "text/plain": [
       "array([3, 8, 8, ..., 5, 1, 7])"
      ]
     },
     "execution_count": 32,
     "metadata": {},
     "output_type": "execute_result"
    }
   ],
   "source": [
    "y_label_test.reshape(-1)"
   ]
  },
  {
   "cell_type": "code",
   "execution_count": 33,
   "metadata": {},
   "outputs": [
    {
     "name": "stdout",
     "output_type": "stream",
     "text": [
      "{0: 'airplane', 1: 'automobile', 2: 'bird', 3: 'cat', 4: 'deer', 5: 'dog', 6: 'frog', 7: 'horse', 8: 'ship', 9: 'truck'}\n"
     ]
    },
    {
     "data": {
      "text/html": [
       "<div>\n",
       "<style scoped>\n",
       "    .dataframe tbody tr th:only-of-type {\n",
       "        vertical-align: middle;\n",
       "    }\n",
       "\n",
       "    .dataframe tbody tr th {\n",
       "        vertical-align: top;\n",
       "    }\n",
       "\n",
       "    .dataframe thead th {\n",
       "        text-align: right;\n",
       "    }\n",
       "</style>\n",
       "<table border=\"1\" class=\"dataframe\">\n",
       "  <thead>\n",
       "    <tr style=\"text-align: right;\">\n",
       "      <th>predict</th>\n",
       "      <th>0</th>\n",
       "      <th>1</th>\n",
       "      <th>2</th>\n",
       "      <th>3</th>\n",
       "      <th>4</th>\n",
       "      <th>5</th>\n",
       "      <th>6</th>\n",
       "      <th>7</th>\n",
       "      <th>8</th>\n",
       "      <th>9</th>\n",
       "    </tr>\n",
       "    <tr>\n",
       "      <th>label</th>\n",
       "      <th></th>\n",
       "      <th></th>\n",
       "      <th></th>\n",
       "      <th></th>\n",
       "      <th></th>\n",
       "      <th></th>\n",
       "      <th></th>\n",
       "      <th></th>\n",
       "      <th></th>\n",
       "      <th></th>\n",
       "    </tr>\n",
       "  </thead>\n",
       "  <tbody>\n",
       "    <tr>\n",
       "      <th>0</th>\n",
       "      <td>755</td>\n",
       "      <td>9</td>\n",
       "      <td>86</td>\n",
       "      <td>17</td>\n",
       "      <td>19</td>\n",
       "      <td>8</td>\n",
       "      <td>25</td>\n",
       "      <td>4</td>\n",
       "      <td>56</td>\n",
       "      <td>21</td>\n",
       "    </tr>\n",
       "    <tr>\n",
       "      <th>1</th>\n",
       "      <td>21</td>\n",
       "      <td>796</td>\n",
       "      <td>27</td>\n",
       "      <td>18</td>\n",
       "      <td>11</td>\n",
       "      <td>7</td>\n",
       "      <td>23</td>\n",
       "      <td>4</td>\n",
       "      <td>24</td>\n",
       "      <td>69</td>\n",
       "    </tr>\n",
       "    <tr>\n",
       "      <th>2</th>\n",
       "      <td>44</td>\n",
       "      <td>1</td>\n",
       "      <td>677</td>\n",
       "      <td>27</td>\n",
       "      <td>85</td>\n",
       "      <td>54</td>\n",
       "      <td>93</td>\n",
       "      <td>10</td>\n",
       "      <td>7</td>\n",
       "      <td>2</td>\n",
       "    </tr>\n",
       "    <tr>\n",
       "      <th>3</th>\n",
       "      <td>10</td>\n",
       "      <td>6</td>\n",
       "      <td>104</td>\n",
       "      <td>461</td>\n",
       "      <td>64</td>\n",
       "      <td>184</td>\n",
       "      <td>152</td>\n",
       "      <td>14</td>\n",
       "      <td>3</td>\n",
       "      <td>2</td>\n",
       "    </tr>\n",
       "    <tr>\n",
       "      <th>4</th>\n",
       "      <td>15</td>\n",
       "      <td>2</td>\n",
       "      <td>96</td>\n",
       "      <td>32</td>\n",
       "      <td>712</td>\n",
       "      <td>22</td>\n",
       "      <td>97</td>\n",
       "      <td>17</td>\n",
       "      <td>7</td>\n",
       "      <td>0</td>\n",
       "    </tr>\n",
       "    <tr>\n",
       "      <th>5</th>\n",
       "      <td>9</td>\n",
       "      <td>1</td>\n",
       "      <td>80</td>\n",
       "      <td>124</td>\n",
       "      <td>57</td>\n",
       "      <td>631</td>\n",
       "      <td>74</td>\n",
       "      <td>19</td>\n",
       "      <td>3</td>\n",
       "      <td>2</td>\n",
       "    </tr>\n",
       "    <tr>\n",
       "      <th>6</th>\n",
       "      <td>2</td>\n",
       "      <td>1</td>\n",
       "      <td>38</td>\n",
       "      <td>25</td>\n",
       "      <td>14</td>\n",
       "      <td>14</td>\n",
       "      <td>903</td>\n",
       "      <td>0</td>\n",
       "      <td>2</td>\n",
       "      <td>1</td>\n",
       "    </tr>\n",
       "    <tr>\n",
       "      <th>7</th>\n",
       "      <td>12</td>\n",
       "      <td>0</td>\n",
       "      <td>69</td>\n",
       "      <td>21</td>\n",
       "      <td>104</td>\n",
       "      <td>79</td>\n",
       "      <td>23</td>\n",
       "      <td>687</td>\n",
       "      <td>4</td>\n",
       "      <td>1</td>\n",
       "    </tr>\n",
       "    <tr>\n",
       "      <th>8</th>\n",
       "      <td>48</td>\n",
       "      <td>26</td>\n",
       "      <td>35</td>\n",
       "      <td>10</td>\n",
       "      <td>13</td>\n",
       "      <td>15</td>\n",
       "      <td>20</td>\n",
       "      <td>2</td>\n",
       "      <td>817</td>\n",
       "      <td>14</td>\n",
       "    </tr>\n",
       "    <tr>\n",
       "      <th>9</th>\n",
       "      <td>44</td>\n",
       "      <td>68</td>\n",
       "      <td>27</td>\n",
       "      <td>19</td>\n",
       "      <td>6</td>\n",
       "      <td>15</td>\n",
       "      <td>25</td>\n",
       "      <td>14</td>\n",
       "      <td>24</td>\n",
       "      <td>758</td>\n",
       "    </tr>\n",
       "  </tbody>\n",
       "</table>\n",
       "</div>"
      ],
      "text/plain": [
       "predict    0    1    2    3    4    5    6    7    8    9\n",
       "label                                                    \n",
       "0        755    9   86   17   19    8   25    4   56   21\n",
       "1         21  796   27   18   11    7   23    4   24   69\n",
       "2         44    1  677   27   85   54   93   10    7    2\n",
       "3         10    6  104  461   64  184  152   14    3    2\n",
       "4         15    2   96   32  712   22   97   17    7    0\n",
       "5          9    1   80  124   57  631   74   19    3    2\n",
       "6          2    1   38   25   14   14  903    0    2    1\n",
       "7         12    0   69   21  104   79   23  687    4    1\n",
       "8         48   26   35   10   13   15   20    2  817   14\n",
       "9         44   68   27   19    6   15   25   14   24  758"
      ]
     },
     "execution_count": 33,
     "metadata": {},
     "output_type": "execute_result"
    }
   ],
   "source": [
    "print(label_dict)\n",
    "pd.crosstab(y_label_test.reshape(-1),prediction,rownames=['label'],colnames=['predict'])"
   ]
  },
  {
   "cell_type": "markdown",
   "metadata": {},
   "source": [
    "# Three layers Conv2D"
   ]
  },
  {
   "cell_type": "code",
   "execution_count": 34,
   "metadata": {},
   "outputs": [],
   "source": [
    "model2 = Sequential()"
   ]
  },
  {
   "cell_type": "code",
   "execution_count": 35,
   "metadata": {},
   "outputs": [],
   "source": [
    "model2.add(Conv2D(filters=32,kernel_size=(3,3),input_shape=(32,32,3),\n",
    "                  activation= 'relu',padding='same'\n",
    "                 ))"
   ]
  },
  {
   "cell_type": "code",
   "execution_count": 36,
   "metadata": {},
   "outputs": [],
   "source": [
    "model2.add(Dropout(0.25))"
   ]
  },
  {
   "cell_type": "code",
   "execution_count": 37,
   "metadata": {},
   "outputs": [],
   "source": [
    "model2.add(Conv2D(filters=32,kernel_size=(3,3),input_shape=(32,32,3),\n",
    "                 activation='relu',padding='same'))\n",
    "model2.add(MaxPooling2D(pool_size=(2,2)))"
   ]
  },
  {
   "cell_type": "code",
   "execution_count": 38,
   "metadata": {},
   "outputs": [],
   "source": [
    "model2.add(Conv2D(filters=64,kernel_size=(3,3),\n",
    "                 activation='relu',padding='same'))\n",
    "model2.add(Dropout(0.25))\n",
    "model2.add(Conv2D(filters=64,kernel_size=(3,3),\n",
    "                 activation='relu',padding='same'))\n",
    "model2.add(MaxPooling2D(pool_size=(2,2)))"
   ]
  },
  {
   "cell_type": "code",
   "execution_count": 39,
   "metadata": {},
   "outputs": [],
   "source": [
    "model2.add(Conv2D(filters=128,kernel_size=(3,3),\n",
    "                 activation='relu',padding='same'))\n",
    "model2.add(Dropout(0.25))\n",
    "model2.add(Conv2D(filters=128,kernel_size=(3,3),\n",
    "                 activation='relu',padding='same'))\n",
    "model2.add(MaxPooling2D(pool_size=(2,2)))"
   ]
  },
  {
   "cell_type": "code",
   "execution_count": 40,
   "metadata": {},
   "outputs": [],
   "source": [
    "model2.add(Flatten())\n",
    "model2.add(Dropout(0.3))\n",
    "model2.add(Dense(2500,activation='relu'))\n",
    "model2.add(Dropout(0.3))\n",
    "model2.add(Dense(1500,activation='relu'))\n",
    "model2.add(Dropout(0.3))\n",
    "model2.add(Dense(10,activation='softmax'))"
   ]
  },
  {
   "cell_type": "code",
   "execution_count": 46,
   "metadata": {},
   "outputs": [],
   "source": [
    "model2.compile(loss = 'categorical_crossentropy',\n",
    "             optimizer = 'adam',metrics=['accuracy'])"
   ]
  },
  {
   "cell_type": "code",
   "execution_count": 47,
   "metadata": {
    "scrolled": true
   },
   "outputs": [
    {
     "name": "stdout",
     "output_type": "stream",
     "text": [
      "Train on 40000 samples, validate on 10000 samples\n",
      "Epoch 1/50\n",
      "40000/40000 [==============================] - 130s 3ms/step - loss: 1.9159 - acc: 0.2830 - val_loss: 1.7236 - val_acc: 0.3692\n",
      "Epoch 2/50\n",
      "40000/40000 [==============================] - 128s 3ms/step - loss: 1.4887 - acc: 0.4492 - val_loss: 1.3513 - val_acc: 0.5129\n",
      "Epoch 3/50\n",
      "40000/40000 [==============================] - 128s 3ms/step - loss: 1.2847 - acc: 0.5332 - val_loss: 1.2209 - val_acc: 0.5670\n",
      "Epoch 4/50\n",
      "40000/40000 [==============================] - 130s 3ms/step - loss: 1.1135 - acc: 0.6003 - val_loss: 1.0381 - val_acc: 0.6323\n",
      "Epoch 5/50\n",
      "40000/40000 [==============================] - 128s 3ms/step - loss: 0.9970 - acc: 0.6445 - val_loss: 0.9225 - val_acc: 0.6741\n",
      "Epoch 6/50\n",
      "40000/40000 [==============================] - 129s 3ms/step - loss: 0.9001 - acc: 0.6789 - val_loss: 0.8581 - val_acc: 0.7001\n",
      "Epoch 7/50\n",
      "40000/40000 [==============================] - 130s 3ms/step - loss: 0.8339 - acc: 0.7040 - val_loss: 0.8141 - val_acc: 0.7121\n",
      "Epoch 8/50\n",
      "40000/40000 [==============================] - 130s 3ms/step - loss: 0.7660 - acc: 0.7275 - val_loss: 0.7625 - val_acc: 0.7322\n",
      "Epoch 9/50\n",
      "40000/40000 [==============================] - 131s 3ms/step - loss: 0.7041 - acc: 0.7513 - val_loss: 0.7359 - val_acc: 0.7466\n",
      "Epoch 10/50\n",
      "40000/40000 [==============================] - 132s 3ms/step - loss: 0.6568 - acc: 0.7667 - val_loss: 0.7070 - val_acc: 0.7515\n",
      "Epoch 11/50\n",
      "40000/40000 [==============================] - 132s 3ms/step - loss: 0.6074 - acc: 0.7856 - val_loss: 0.7156 - val_acc: 0.7567\n",
      "Epoch 12/50\n",
      "40000/40000 [==============================] - 129s 3ms/step - loss: 0.5681 - acc: 0.8003 - val_loss: 0.6495 - val_acc: 0.7738\n",
      "Epoch 13/50\n",
      "40000/40000 [==============================] - 126s 3ms/step - loss: 0.5268 - acc: 0.8137 - val_loss: 0.6663 - val_acc: 0.7732\n",
      "Epoch 14/50\n",
      "40000/40000 [==============================] - 126s 3ms/step - loss: 0.4978 - acc: 0.8237 - val_loss: 0.6548 - val_acc: 0.7790\n",
      "Epoch 15/50\n",
      "40000/40000 [==============================] - 126s 3ms/step - loss: 0.4584 - acc: 0.8362 - val_loss: 0.6633 - val_acc: 0.7794\n",
      "Epoch 16/50\n",
      "40000/40000 [==============================] - 126s 3ms/step - loss: 0.4238 - acc: 0.8493 - val_loss: 0.6546 - val_acc: 0.7867\n",
      "Epoch 17/50\n",
      "40000/40000 [==============================] - 126s 3ms/step - loss: 0.4015 - acc: 0.8554 - val_loss: 0.6456 - val_acc: 0.7861\n",
      "Epoch 18/50\n",
      "40000/40000 [==============================] - 126s 3ms/step - loss: 0.3684 - acc: 0.8684 - val_loss: 0.6576 - val_acc: 0.7897\n",
      "Epoch 19/50\n",
      "40000/40000 [==============================] - 126s 3ms/step - loss: 0.3409 - acc: 0.8778 - val_loss: 0.6754 - val_acc: 0.7841\n",
      "Epoch 20/50\n",
      "40000/40000 [==============================] - 126s 3ms/step - loss: 0.3314 - acc: 0.8813 - val_loss: 0.6609 - val_acc: 0.7943\n",
      "Epoch 21/50\n",
      "40000/40000 [==============================] - 126s 3ms/step - loss: 0.3136 - acc: 0.8878 - val_loss: 0.6908 - val_acc: 0.7905\n",
      "Epoch 22/50\n",
      "40000/40000 [==============================] - 126s 3ms/step - loss: 0.2924 - acc: 0.8955 - val_loss: 0.6705 - val_acc: 0.7942\n",
      "Epoch 23/50\n",
      "40000/40000 [==============================] - 126s 3ms/step - loss: 0.2766 - acc: 0.9015 - val_loss: 0.7233 - val_acc: 0.7862\n",
      "Epoch 24/50\n",
      "40000/40000 [==============================] - 126s 3ms/step - loss: 0.2580 - acc: 0.9088 - val_loss: 0.7063 - val_acc: 0.7884\n",
      "Epoch 25/50\n",
      "40000/40000 [==============================] - 126s 3ms/step - loss: 0.2478 - acc: 0.9116 - val_loss: 0.7106 - val_acc: 0.7950\n",
      "Epoch 26/50\n",
      "40000/40000 [==============================] - 126s 3ms/step - loss: 0.2332 - acc: 0.9174 - val_loss: 0.7333 - val_acc: 0.7944\n",
      "Epoch 27/50\n",
      "40000/40000 [==============================] - 126s 3ms/step - loss: 0.2248 - acc: 0.9219 - val_loss: 0.6916 - val_acc: 0.7995\n",
      "Epoch 28/50\n",
      "40000/40000 [==============================] - 126s 3ms/step - loss: 0.2119 - acc: 0.9243 - val_loss: 0.7919 - val_acc: 0.7803\n",
      "Epoch 29/50\n",
      "40000/40000 [==============================] - 126s 3ms/step - loss: 0.2104 - acc: 0.9266 - val_loss: 0.7097 - val_acc: 0.8002\n",
      "Epoch 30/50\n",
      "40000/40000 [==============================] - 126s 3ms/step - loss: 0.1962 - acc: 0.9317 - val_loss: 0.7418 - val_acc: 0.7933\n",
      "Epoch 31/50\n",
      "40000/40000 [==============================] - 126s 3ms/step - loss: 0.1995 - acc: 0.9297 - val_loss: 0.7261 - val_acc: 0.7977\n",
      "Epoch 32/50\n",
      "40000/40000 [==============================] - 126s 3ms/step - loss: 0.1886 - acc: 0.9334 - val_loss: 0.7308 - val_acc: 0.7993\n",
      "Epoch 33/50\n",
      "40000/40000 [==============================] - 126s 3ms/step - loss: 0.1896 - acc: 0.9348 - val_loss: 0.7409 - val_acc: 0.8035\n",
      "Epoch 34/50\n",
      "40000/40000 [==============================] - 126s 3ms/step - loss: 0.1769 - acc: 0.9390 - val_loss: 0.7649 - val_acc: 0.7946\n",
      "Epoch 35/50\n",
      "40000/40000 [==============================] - 126s 3ms/step - loss: 0.1641 - acc: 0.9431 - val_loss: 0.7268 - val_acc: 0.8022\n",
      "Epoch 36/50\n",
      "40000/40000 [==============================] - 126s 3ms/step - loss: 0.1645 - acc: 0.9436 - val_loss: 0.7553 - val_acc: 0.8008\n",
      "Epoch 37/50\n",
      "40000/40000 [==============================] - 126s 3ms/step - loss: 0.1689 - acc: 0.9413 - val_loss: 0.7588 - val_acc: 0.8004\n",
      "Epoch 38/50\n",
      "40000/40000 [==============================] - 126s 3ms/step - loss: 0.1603 - acc: 0.9446 - val_loss: 0.7460 - val_acc: 0.8037\n",
      "Epoch 39/50\n",
      "40000/40000 [==============================] - 126s 3ms/step - loss: 0.1536 - acc: 0.9477 - val_loss: 0.7334 - val_acc: 0.7991\n",
      "Epoch 40/50\n",
      "40000/40000 [==============================] - 126s 3ms/step - loss: 0.1496 - acc: 0.9477 - val_loss: 0.7755 - val_acc: 0.7983\n",
      "Epoch 41/50\n",
      "40000/40000 [==============================] - 126s 3ms/step - loss: 0.1453 - acc: 0.9490 - val_loss: 0.7857 - val_acc: 0.8010\n",
      "Epoch 42/50\n",
      "40000/40000 [==============================] - 126s 3ms/step - loss: 0.1561 - acc: 0.9459 - val_loss: 0.7635 - val_acc: 0.7970\n",
      "Epoch 43/50\n",
      "40000/40000 [==============================] - 126s 3ms/step - loss: 0.1435 - acc: 0.9501 - val_loss: 0.7582 - val_acc: 0.7972\n",
      "Epoch 44/50\n",
      "40000/40000 [==============================] - 126s 3ms/step - loss: 0.1429 - acc: 0.9507 - val_loss: 0.7576 - val_acc: 0.7978\n",
      "Epoch 45/50\n",
      "40000/40000 [==============================] - 126s 3ms/step - loss: 0.1340 - acc: 0.9543 - val_loss: 0.7604 - val_acc: 0.8038\n",
      "Epoch 46/50\n",
      "40000/40000 [==============================] - 126s 3ms/step - loss: 0.1388 - acc: 0.9526 - val_loss: 0.7722 - val_acc: 0.7997\n",
      "Epoch 47/50\n",
      "40000/40000 [==============================] - 126s 3ms/step - loss: 0.1344 - acc: 0.9531 - val_loss: 0.7554 - val_acc: 0.8068\n",
      "Epoch 48/50\n",
      "40000/40000 [==============================] - 126s 3ms/step - loss: 0.1315 - acc: 0.9542 - val_loss: 0.7872 - val_acc: 0.8016\n",
      "Epoch 49/50\n",
      "40000/40000 [==============================] - 126s 3ms/step - loss: 0.1244 - acc: 0.9570 - val_loss: 0.7672 - val_acc: 0.8066\n",
      "Epoch 50/50\n",
      "40000/40000 [==============================] - 126s 3ms/step - loss: 0.1306 - acc: 0.9550 - val_loss: 0.7832 - val_acc: 0.7998\n"
     ]
    }
   ],
   "source": [
    "train_history = model2.fit(x_img_train_normalize,y_label_train_OneHot,\n",
    "                         validation_split = 0.2,epochs=50,batch_size = 300,verbose=1)"
   ]
  },
  {
   "cell_type": "code",
   "execution_count": 48,
   "metadata": {},
   "outputs": [
    {
     "name": "stdout",
     "output_type": "stream",
     "text": [
      "10000/10000 [==============================] - 9s 906us/step\n"
     ]
    },
    {
     "data": {
      "text/plain": [
       "[0.8044833253622055, 0.7991]"
      ]
     },
     "execution_count": 48,
     "metadata": {},
     "output_type": "execute_result"
    }
   ],
   "source": [
    "scores = model2.evaluate(x_img_test_normalize,y_label_test_OneHot)\n",
    "scores"
   ]
  },
  {
   "cell_type": "code",
   "execution_count": 50,
   "metadata": {},
   "outputs": [],
   "source": [
    "model2.save_weights(\"cifar-10_cnn.h5\")"
   ]
  },
  {
   "cell_type": "code",
   "execution_count": 52,
   "metadata": {},
   "outputs": [],
   "source": [
    "model2.load_weights('cifar-10_cnn.h5')"
   ]
  },
  {
   "cell_type": "code",
   "execution_count": 53,
   "metadata": {},
   "outputs": [
    {
     "name": "stdout",
     "output_type": "stream",
     "text": [
      "10000/10000 [==============================] - 9s 904us/step\n"
     ]
    },
    {
     "data": {
      "text/plain": [
       "[0.8044833253622055, 0.7991]"
      ]
     },
     "execution_count": 53,
     "metadata": {},
     "output_type": "execute_result"
    }
   ],
   "source": [
    "scores = model2.evaluate(x_img_test_normalize,y_label_test_OneHot)\n",
    "scores"
   ]
  },
  {
   "cell_type": "code",
   "execution_count": null,
   "metadata": {},
   "outputs": [],
   "source": []
  }
 ],
 "metadata": {
  "kernelspec": {
   "display_name": "Python 3",
   "language": "python",
   "name": "python3"
  },
  "language_info": {
   "codemirror_mode": {
    "name": "ipython",
    "version": 3
   },
   "file_extension": ".py",
   "mimetype": "text/x-python",
   "name": "python",
   "nbconvert_exporter": "python",
   "pygments_lexer": "ipython3",
   "version": "3.6.5"
  }
 },
 "nbformat": 4,
 "nbformat_minor": 2
}
